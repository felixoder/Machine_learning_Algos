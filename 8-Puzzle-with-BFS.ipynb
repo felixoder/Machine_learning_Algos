{
 "cells": [
  {
   "cell_type": "code",
   "execution_count": 2,
   "id": "e4223f88",
   "metadata": {},
   "outputs": [],
   "source": [
    "from collections import deque\n",
    "import numpy as np"
   ]
  },
  {
   "cell_type": "code",
   "execution_count": 6,
   "id": "04e46c7a",
   "metadata": {},
   "outputs": [],
   "source": [
    "GOAL_STATE = [\n",
    "    [1 , 2, 3],\n",
    "    [4, 5, 6],\n",
    "    [7, 8, 0]\n",
    "]\n",
    "MOVES = {\n",
    "    \"up\": (-1, 0),\n",
    "    \"down\": (1, 0),\n",
    "    \"left\": (0, -1),\n",
    "    \"right\": (0, 1)\n",
    "}"
   ]
  },
  {
   "cell_type": "code",
   "execution_count": 9,
   "id": "9548ec57",
   "metadata": {},
   "outputs": [],
   "source": [
    "# utility functions\n",
    "# check if the state is a goal state\n",
    "def is_goal(state):\n",
    "    return state == GOAL_STATE"
   ]
  },
  {
   "cell_type": "code",
   "execution_count": 11,
   "id": "a6581a4d",
   "metadata": {},
   "outputs": [],
   "source": [
    "# find the position where I will get the empty tile [0]\n",
    "def find_empty(state):\n",
    "    for i,row in enumerate(state):\n",
    "        for j, val in enumerate(row):\n",
    "            if val == 0:\n",
    "                return i, j"
   ]
  },
  {
   "cell_type": "code",
   "execution_count": 13,
   "id": "6c3f2c18",
   "metadata": {},
   "outputs": [],
   "source": [
    "# make a move\n",
    "def move(state, direction):\n",
    "    x, y = find_empty(state)\n",
    "    dx, dy = MOVES[direction]\n",
    "    nx, ny = x + dx, y + dy\n",
    "    \n",
    "    if 0 <= nx < 3 and 0 <= ny < 3:\n",
    "        new_state = [row[:] for row in state] # copy the current state\n",
    "        new_state[x][y], new_state[nx][ny] = new_state[nx][ny], new_state[x][y]\n",
    "        return new_state\n",
    "    return None\n",
    "        "
   ]
  },
  {
   "cell_type": "code",
   "execution_count": 21,
   "id": "a2cfaad2",
   "metadata": {},
   "outputs": [],
   "source": [
    "# solve the puzzle using bfs algorithm\n",
    "def bfs(initial_state):\n",
    "    queue = deque([(initial_state, [])]) # Queue stores (state, path to state)\n",
    "    visited = set() # set to track the visited nodes\n",
    "    \n",
    "    while queue:\n",
    "        current_state, path = queue.popleft()\n",
    "        visited.add(tuple(map(tuple, current_state))) # add state to visited\n",
    "        \n",
    "        if is_goal(current_state):\n",
    "            return path # returns the path to the goal state\n",
    "        for direction in MOVES.keys():\n",
    "            next_state = move(current_state, direction)\n",
    "            if next_state and tuple(map(tuple, next_state)) not in visited:\n",
    "                queue.append((next_state, path + [direction]))\n",
    "    return None\n",
    "    "
   ]
  },
  {
   "cell_type": "code",
   "execution_count": 28,
   "id": "5102eb1b",
   "metadata": {},
   "outputs": [],
   "source": [
    "# print the state over [make a nice look of the array]\n",
    "def print_state(state):\n",
    "    for row in state:\n",
    "        print(\" \".join(map(str, row)))\n",
    "    print()"
   ]
  },
  {
   "cell_type": "code",
   "execution_count": 29,
   "id": "5fd03ef3",
   "metadata": {},
   "outputs": [],
   "source": [
    "# The initial Scrambled state\n",
    "INITIAL_STATE =  [\n",
    "    [1, 2, 3],\n",
    "    [4, 0, 6],\n",
    "    [7, 5, 8]\n",
    "]"
   ]
  },
  {
   "cell_type": "code",
   "execution_count": 33,
   "id": "475cbc7f",
   "metadata": {},
   "outputs": [
    {
     "name": "stdout",
     "output_type": "stream",
     "text": [
      "Initial State:\n",
      "1 2 3\n",
      "4 0 6\n",
      "7 5 8\n",
      "\n",
      "Solution found!\n",
      "Steps: ['down', 'right']\n",
      "\n",
      "Applying moves:\n",
      "Move: down\n",
      "[[1, 2, 3], [4, 5, 6], [7, 0, 8]]\n",
      "Move: right\n",
      "[[1, 2, 3], [4, 5, 6], [7, 8, 0]]\n"
     ]
    }
   ],
   "source": [
    "# solve the puzzle\n",
    "print(\"Initial State:\")\n",
    "print_state(INITIAL_STATE)\n",
    "\n",
    "solution = bfs(INITIAL_STATE)\n",
    "if solution:\n",
    "    print(\"Solution found!\")\n",
    "    print(\"Steps:\", solution)\n",
    "    print(\"\\nApplying moves:\")\n",
    "    current_state = INITIAL_STATE\n",
    "    for move_dir in solution:\n",
    "        print(f\"Move: {move_dir}\")\n",
    "        current_state = move(current_state, move_dir)\n",
    "        print(current_state)"
   ]
  }
 ],
 "metadata": {
  "kernelspec": {
   "display_name": "Python 3 (ipykernel)",
   "language": "python",
   "name": "python3"
  },
  "language_info": {
   "codemirror_mode": {
    "name": "ipython",
    "version": 3
   },
   "file_extension": ".py",
   "mimetype": "text/x-python",
   "name": "python",
   "nbconvert_exporter": "python",
   "pygments_lexer": "ipython3",
   "version": "3.12.3"
  }
 },
 "nbformat": 4,
 "nbformat_minor": 5
}
