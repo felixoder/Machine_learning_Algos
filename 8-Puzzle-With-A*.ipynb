{
 "cells": [
  {
   "cell_type": "code",
   "execution_count": 2,
   "id": "eb795d13",
   "metadata": {},
   "outputs": [],
   "source": [
    "import heapq"
   ]
  },
  {
   "cell_type": "code",
   "execution_count": 4,
   "id": "6bd945b0",
   "metadata": {},
   "outputs": [],
   "source": [
    "GOAL_STATE = [\n",
    "    [1, 2, 3],\n",
    "    [4, 5, 6],\n",
    "    [7, 8, 0]\n",
    "]"
   ]
  },
  {
   "cell_type": "code",
   "execution_count": 6,
   "id": "fb31867e",
   "metadata": {},
   "outputs": [],
   "source": [
    "MOVES = {\n",
    "    \"up\": (-1, 0),\n",
    "    \"down\": (1, 0),\n",
    "    \"left\": (0, -1),\n",
    "    \"right\": (0, 1),\n",
    "}"
   ]
  },
  {
   "cell_type": "code",
   "execution_count": 8,
   "id": "5ba85866",
   "metadata": {},
   "outputs": [],
   "source": [
    "# Utility functions\n",
    "# find the empty tile [0]\n",
    "def find_empty(state):\n",
    "    for i, row in enumerate(state):\n",
    "        for j, val in enumerate(row):\n",
    "            if val == 0:\n",
    "                return i, j"
   ]
  },
  {
   "cell_type": "code",
   "execution_count": 10,
   "id": "6163bbae",
   "metadata": {},
   "outputs": [],
   "source": [
    "# make the move\n",
    "def move(state, direction):\n",
    "    x, y = find_empty(state)\n",
    "    dx, dy = MOVES[direction]\n",
    "    nx, ny = x + dx, y + dy\n",
    "    \n",
    "    if 0 <= nx < 3 and 0 <= ny <= 3:\n",
    "        new_state = [row[:] for row in state] # copy the current state\n",
    "        new_state[x][y], new_state[nx][ny] = new_state[nx][ny], new_state[x][y]\n",
    "        return new_state\n",
    "    return None"
   ]
  },
  {
   "cell_type": "code",
   "execution_count": 12,
   "id": "45c20ce4",
   "metadata": {},
   "outputs": [],
   "source": [
    "# Get the manhattan distance\n",
    "def manhattan_distance(state):\n",
    "    distance = 0\n",
    "    for i in range(3):\n",
    "        for j in range(3):\n",
    "            value = state[i][j]\n",
    "            if value != 0: # Ignore the empty space\n",
    "                goal_x, goal_y = divmod(value - 1, 3)\n",
    "                distance += abs(goal_x - i) + abs(goal_y - j)\n",
    "    return distance\n",
    "    "
   ]
  },
  {
   "cell_type": "code",
   "execution_count": 20,
   "id": "7d7b8476",
   "metadata": {},
   "outputs": [],
   "source": [
    "# solve the 8 puzzle with A* algorithm\n",
    "def a_star(initial_state):\n",
    "    # priority queue with elements (cost, state, path)\n",
    "    priority_queue = []\n",
    "    heapq.heappush(priority_queue, (0, initial_state, []))\n",
    "    visited = set() # set to track visited states\n",
    "    \n",
    "    while priority_queue:\n",
    "        cost, current_state, path = heapq.heappop(priority_queue)\n",
    "        \n",
    "        # Check if we reached the goal state\n",
    "        if current_state == GOAL_STATE:\n",
    "            return path\n",
    "        \n",
    "        # Mark if the current state as visited\n",
    "        visited.add(tuple(map(tuple, current_state)))\n",
    "        \n",
    "        for direction in MOVES.keys():\n",
    "            next_state = move(current_state, direction)\n",
    "            if next_state and tuple(map(tuple, next_state)) not in visited:\n",
    "                # Calculate heuristic and cost\n",
    "                g = len(path) + 1 # Cost to reach next state\n",
    "                h = manhattan_distance(next_state) # Estimated cost to goal\n",
    "                f = g + h\n",
    "                heapq.heappush(priority_queue, (f, next_state, path + [direction]))\n",
    "    return None # No solution found\n",
    "    "
   ]
  },
  {
   "cell_type": "code",
   "execution_count": 21,
   "id": "7b26f772",
   "metadata": {},
   "outputs": [],
   "source": [
    "# print the state in a readable format\n",
    "def print_state(state):\n",
    "    for row in state:\n",
    "        print(\" \".join(map(str, row)))\n",
    "    print()"
   ]
  },
  {
   "cell_type": "code",
   "execution_count": 22,
   "id": "5185adca",
   "metadata": {},
   "outputs": [],
   "source": [
    "# Initial scrambled state\n",
    "INITIAL_STATE = [\n",
    "    [1, 2, 3],\n",
    "    [4, 0, 6],\n",
    "    [7, 5, 8]\n",
    "]"
   ]
  },
  {
   "cell_type": "code",
   "execution_count": 24,
   "id": "09343c25",
   "metadata": {},
   "outputs": [
    {
     "name": "stdout",
     "output_type": "stream",
     "text": [
      "Initial State:\n",
      "1 2 3\n",
      "4 0 6\n",
      "7 5 8\n",
      "\n",
      "Solution found!\n",
      "Steps: ['down', 'right']\n",
      "\n",
      "Applying moves:\n",
      "Move: down\n",
      "1 2 3\n",
      "4 5 6\n",
      "7 0 8\n",
      "\n",
      "Move: right\n",
      "1 2 3\n",
      "4 5 6\n",
      "7 8 0\n",
      "\n"
     ]
    }
   ],
   "source": [
    "# Solve the puzzle\n",
    "print(\"Initial State:\")\n",
    "print_state(INITIAL_STATE)\n",
    "\n",
    "solution = a_star(INITIAL_STATE)\n",
    "\n",
    "if solution:\n",
    "    print(\"Solution found!\")\n",
    "    print(\"Steps:\", solution)\n",
    "    print(\"\\nApplying moves:\")\n",
    "    current_state = INITIAL_STATE\n",
    "    for move_dir in solution:\n",
    "        print(f\"Move: {move_dir}\")\n",
    "        current_state = move(current_state, move_dir)\n",
    "        print_state(current_state)"
   ]
  },
  {
   "cell_type": "code",
   "execution_count": null,
   "id": "927b17cb",
   "metadata": {},
   "outputs": [],
   "source": []
  }
 ],
 "metadata": {
  "kernelspec": {
   "display_name": "Python 3 (ipykernel)",
   "language": "python",
   "name": "python3"
  },
  "language_info": {
   "codemirror_mode": {
    "name": "ipython",
    "version": 3
   },
   "file_extension": ".py",
   "mimetype": "text/x-python",
   "name": "python",
   "nbconvert_exporter": "python",
   "pygments_lexer": "ipython3",
   "version": "3.12.3"
  }
 },
 "nbformat": 4,
 "nbformat_minor": 5
}
