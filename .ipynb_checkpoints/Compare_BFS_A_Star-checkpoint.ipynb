{
 "cells": [
  {
   "cell_type": "code",
   "execution_count": 31,
   "id": "703ad6b5",
   "metadata": {},
   "outputs": [],
   "source": [
    "import time\n",
    "import heapq\n",
    "from collections import deque"
   ]
  },
  {
   "cell_type": "code",
   "execution_count": 32,
   "id": "8f5c9d3d",
   "metadata": {},
   "outputs": [],
   "source": [
    "GOAL_STATE = [\n",
    "    [1, 2, 3],\n",
    "    [4, 5, 6],\n",
    "    [7, 8, 0]\n",
    "]"
   ]
  },
  {
   "cell_type": "code",
   "execution_count": 33,
   "id": "db551c0d",
   "metadata": {},
   "outputs": [],
   "source": [
    "# possible moves: up, down, left, right\n",
    "MOVES = {\n",
    "    \"up\": (-1, 0),\n",
    "    \"down\": (1, 0),\n",
    "    \"left\": (0, -1),\n",
    "    \"right\": (0, 1),\n",
    "}"
   ]
  },
  {
   "cell_type": "code",
   "execution_count": 34,
   "id": "80d5fd82",
   "metadata": {},
   "outputs": [],
   "source": [
    "# Utility functions\n",
    "# find the empty tile [0]\n",
    "def find_empty(state):\n",
    "    for i, row in enumerate(state):\n",
    "        for j, val in enumerate(row):\n",
    "            if val == 0:\n",
    "                return i, j\n",
    "    return None"
   ]
  },
  {
   "cell_type": "code",
   "execution_count": 35,
   "id": "bca06fff",
   "metadata": {},
   "outputs": [],
   "source": [
    "# move tile\n",
    "def move(state, direction):\n",
    "    x, y = find_empty(state)\n",
    "    dx, dy = MOVES[direction]\n",
    "    nx, ny = x + dx, y + dy\n",
    "    \n",
    "    if 0 <= nx < 3 and 0 <= ny < 3:\n",
    "        new_state = [row[:] for row in state]\n",
    "        new_state[x][y], new_state[nx][ny] = new_state[nx][ny], new_state[x][y]\n",
    "        return new_state\n",
    "    return None"
   ]
  },
  {
   "cell_type": "code",
   "execution_count": 36,
   "id": "372bfbc7",
   "metadata": {},
   "outputs": [],
   "source": [
    "# calculate the manhattan distance\n",
    "def manhattan_distance(state):\n",
    "    distance = 0\n",
    "    for i in range(3):\n",
    "        for j in range(3):\n",
    "            val = state[i][j]\n",
    "            if val != 0:\n",
    "                goal_x, goal_y = divmod(val - 1, 3)\n",
    "                distance += abs(i - goal_x) + abs(j - goal_y)\n",
    "        return distance"
   ]
  },
  {
   "cell_type": "code",
   "execution_count": 37,
   "id": "c8281d5b",
   "metadata": {},
   "outputs": [],
   "source": [
    "# BFS Implementation\n",
    "def bfs(initial_state):\n",
    "    queue = deque([(initial_state, [])])\n",
    "    visited = set()\n",
    "    nodes_expanded = 0\n",
    "    \n",
    "    while queue:\n",
    "        current_state, path = queue.popleft()\n",
    "        nodes_expanded += 1\n",
    "        \n",
    "        if current_state == GOAL_STATE:\n",
    "            return path, nodes_expanded\n",
    "        visited.add(tuple(map(tuple, current_state)))\n",
    "        \n",
    "        for direction in MOVES.keys():\n",
    "            next_state = move(current_state, direction)\n",
    "            if next_state and tuple(map(tuple, next_state)) not in visited:\n",
    "                queue.append((next_state, path + [direction]))\n",
    "    return None, nodes_expanded"
   ]
  },
  {
   "cell_type": "code",
   "execution_count": 39,
   "id": "1fb5688d",
   "metadata": {},
   "outputs": [],
   "source": [
    "# A* implementation\n",
    "def a_star(initial_state):\n",
    "    priority_queue = []\n",
    "    heapq.heappush(priority_queue, (0, initial_state, []))\n",
    "    visited = set()\n",
    "    nodes_expanded = 0\n",
    "    \n",
    "    while priority_queue:\n",
    "        cost, current_state, path = heapq.heappop(priority_queue)\n",
    "        nodes_expanded += 1\n",
    "        \n",
    "        if current_state == GOAL_STATE:\n",
    "            return path, nodes_expanded\n",
    "        \n",
    "        visited.add(tuple(map(tuple, current_state)))\n",
    "        \n",
    "        for direction in MOVES.keys():\n",
    "            next_state = move(current_state, direction)\n",
    "            if next_state and tuple(map(tuple, next_state)) not in visited:\n",
    "                g = len(path) + 1\n",
    "                h = manhattan_distance(next_state)\n",
    "                f = g + h\n",
    "                heapq.heappush(priority_queue, (f, next_state, path + [direction]))\n",
    "    return None, nodes_expanded\n",
    "                "
   ]
  },
  {
   "cell_type": "code",
   "execution_count": 40,
   "id": "3ba76122",
   "metadata": {},
   "outputs": [],
   "source": [
    "initial_state = [\n",
    "    [1, 2, 3],\n",
    "    [4, 0, 6],\n",
    "    [7, 5, 8]\n",
    "]"
   ]
  },
  {
   "cell_type": "code",
   "execution_count": 41,
   "id": "959d400b",
   "metadata": {},
   "outputs": [],
   "source": [
    "# BFS\n",
    "start_time = time.time()\n",
    "bfs_path, bfs_nodes = bfs(initial_state)\n",
    "bfs_time = time.time() - start_time"
   ]
  },
  {
   "cell_type": "code",
   "execution_count": 42,
   "id": "2b8a4084",
   "metadata": {},
   "outputs": [],
   "source": [
    "# A*\n",
    "start_time = time.time()\n",
    "a_star_path, a_star_nodes = a_star(initial_state)\n",
    "a_star_time = time.time() - start_time"
   ]
  },
  {
   "cell_type": "code",
   "execution_count": 43,
   "id": "54437905",
   "metadata": {},
   "outputs": [
    {
     "name": "stdout",
     "output_type": "stream",
     "text": [
      "BFS:\n",
      "Path: ['down', 'right']\n",
      "Nodes Expanded: 9\n",
      "Time Taken:  0.0004 seconds\n",
      "\n",
      "A*:\n",
      "Path: ['down', 'right']\n",
      "Nodes Expanded: 9\n",
      "Time Taken:  0.0007 seconds\n"
     ]
    }
   ],
   "source": [
    "# Results\n",
    "print(\"BFS:\")\n",
    "print(f\"Path: {bfs_path}\")\n",
    "print(f\"Nodes Expanded: {bfs_nodes}\")\n",
    "print(f\"Time Taken: {bfs_time: .4f} seconds\")\n",
    "\n",
    "print(\"\\nA*:\")\n",
    "print(f\"Path: {a_star_path}\")\n",
    "print(f\"Nodes Expanded: {a_star_nodes}\")\n",
    "print(f\"Time Taken: {a_star_time: .4f} seconds\")"
   ]
  },
  {
   "cell_type": "code",
   "execution_count": 51,
   "id": "6d215d05",
   "metadata": {},
   "outputs": [
    {
     "name": "stdout",
     "output_type": "stream",
     "text": [
      "BFS has the less complexity than A* and the difference is  0.0003 for this case\n"
     ]
    }
   ],
   "source": [
    "# Better solution\n",
    "difference = a_star_time - bfs_time\n",
    "if bfs_time > a_star_time:\n",
    "    print(f\"A* has the less complexity than BFS and the difference is {difference: .4f} for this case\")\n",
    "else:\n",
    "    print(f\"BFS has the less complexity than A* and the difference is {difference: .4f} for this case\")"
   ]
  },
  {
   "cell_type": "code",
   "execution_count": null,
   "id": "c5e15f73",
   "metadata": {},
   "outputs": [],
   "source": []
  }
 ],
 "metadata": {
  "kernelspec": {
   "display_name": "Python 3 (ipykernel)",
   "language": "python",
   "name": "python3"
  },
  "language_info": {
   "codemirror_mode": {
    "name": "ipython",
    "version": 3
   },
   "file_extension": ".py",
   "mimetype": "text/x-python",
   "name": "python",
   "nbconvert_exporter": "python",
   "pygments_lexer": "ipython3",
   "version": "3.12.3"
  }
 },
 "nbformat": 4,
 "nbformat_minor": 5
}
