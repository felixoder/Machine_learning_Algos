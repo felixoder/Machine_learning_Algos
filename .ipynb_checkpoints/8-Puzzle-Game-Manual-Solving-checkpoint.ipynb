{
 "cells": [
  {
   "cell_type": "code",
   "execution_count": null,
   "id": "b25957e3",
   "metadata": {},
   "outputs": [],
   "source": [
    "import numpy as np"
   ]
  },
  {
   "cell_type": "code",
   "execution_count": null,
   "id": "b2e69378",
   "metadata": {},
   "outputs": [],
   "source": [
    "goal_state = np.array([[1, 2, 3],[4, 5, 6], [7, 8, 0]])"
   ]
  },
  {
   "cell_type": "code",
   "execution_count": null,
   "id": "d3b5b8c7",
   "metadata": {},
   "outputs": [],
   "source": [
    "initial_state = np.array([[1, 2, 3],[4, 0, 6],[7, 5, 8]])"
   ]
  },
  {
   "cell_type": "code",
   "execution_count": null,
   "id": "d894d2d7",
   "metadata": {},
   "outputs": [],
   "source": [
    "# print the board\n",
    "def print_board(state):\n",
    "    for row in state:\n",
    "        print(\" \".join(map(str, row)))\n",
    "    print()"
   ]
  },
  {
   "cell_type": "code",
   "execution_count": null,
   "id": "71e9727a",
   "metadata": {},
   "outputs": [],
   "source": [
    "# if the state is a goal state\n",
    "def is_goal(state):\n",
    "    return np.array_equal(state, goal_state)"
   ]
  },
  {
   "cell_type": "code",
   "execution_count": null,
   "id": "bbc00267",
   "metadata": {},
   "outputs": [],
   "source": [
    "# get the empty position (0)\n",
    "def get_empty_position(state):\n",
    "    return tuple(np.argwhere(state == 0)[0])"
   ]
  },
  {
   "cell_type": "code",
   "execution_count": null,
   "id": "312c3f44",
   "metadata": {},
   "outputs": [],
   "source": [
    "# Get the moves\n",
    "def move(state, direction):\n",
    "    x, y = get_empty_position(state)\n",
    "    new_state = state.copy()\n",
    "    \n",
    "    # define moves\n",
    "    moves = {\n",
    "        'up': (-1,0),\n",
    "        'down': (1,0),\n",
    "        'left': (0, -1),\n",
    "        'right': (0, 1)\n",
    "    }\n",
    "    if direction in moves:\n",
    "        dx, dy = moves[direction]\n",
    "        nx, ny = x + dx, y + dy\n",
    "        \n",
    "        # check if the move is valid\n",
    "        if 0 <= nx < 3 and 0 <= ny < 3:\n",
    "            new_state[x,y], new_state[nx, ny] = new_state[nx, ny], new_state[x, y]\n",
    "            return new_state\n",
    "        else:\n",
    "            print(f\"Move {direction} is not valid\")\n",
    "    else:\n",
    "        print(f\"Invalid direction: {direction}\")\n",
    "    return state"
   ]
  },
  {
   "cell_type": "code",
   "execution_count": null,
   "id": "54e6ba8b",
   "metadata": {},
   "outputs": [],
   "source": [
    "def manual_solve(state):\n",
    "    current_state = initial_state.copy()\n",
    "    print(\"initial state:\")\n",
    "    print_board(current_state)\n",
    "    \n",
    "    steps = 0\n",
    "    while not is_goal(current_state):\n",
    "        direction = input(\"Enter your move (up, down, left, right):\").strip().lower()\n",
    "        new_state = move(current_state, direction)\n",
    "        \n",
    "        if not np.array_equal(current_state, new_state):\n",
    "            current_state = new_state\n",
    "            steps += 1\n",
    "            print(f\"Step {steps}:\")\n",
    "            print_board(current_state)\n",
    "        else:\n",
    "            print(\"Invalid move. Try again.\")\n",
    "    print(\"Congratulations! You solved the puzzle in\", steps, \"steps\")\n"
   ]
  },
  {
   "cell_type": "code",
   "execution_count": null,
   "id": "32cb619c",
   "metadata": {},
   "outputs": [],
   "source": [
    "manual_solve(initial_state)"
   ]
  },
  {
   "cell_type": "code",
   "execution_count": null,
   "id": "792bd279",
   "metadata": {},
   "outputs": [],
   "source": []
  }
 ],
 "metadata": {
  "kernelspec": {
   "display_name": "Python 3 (ipykernel)",
   "language": "python",
   "name": "python3"
  },
  "language_info": {
   "codemirror_mode": {
    "name": "ipython",
    "version": 3
   },
   "file_extension": ".py",
   "mimetype": "text/x-python",
   "name": "python",
   "nbconvert_exporter": "python",
   "pygments_lexer": "ipython3",
   "version": "3.12.3"
  }
 },
 "nbformat": 4,
 "nbformat_minor": 5
}
